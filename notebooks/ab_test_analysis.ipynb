{
 "cells": [
  {
   "cell_type": "markdown",
   "id": "d17731ac",
   "metadata": {},
   "source": [
    "# A/B Test Analysis\n",
    "\n",
    "This notebook replicates a simple A/B test workflow using synthetic data."
   ]
  },
  {
   "cell_type": "code",
   "execution_count": null,
   "id": "393573ec",
   "metadata": {},
   "outputs": [],
   "source": [
    "\n",
    "import pandas as pd\n",
    "from src.data_generator import generate_ab_data\n",
    "from src.ab_test import group_summary, propor_z_test\n",
    "from src.visualization import plot_cr_with_ci\n",
    "\n",
    "# Load synthetic data\n",
    "df = pd.read_csv('../data/ab_test_data.csv')\n",
    "df.head()\n"
   ]
  },
  {
   "cell_type": "markdown",
   "id": "41f21f5b",
   "metadata": {},
   "source": [
    "## Per-group conversion and 95% CI"
   ]
  },
  {
   "cell_type": "code",
   "execution_count": null,
   "id": "91ee2bad",
   "metadata": {},
   "outputs": [],
   "source": [
    "\n",
    "summary = group_summary(df, group_col='group', outcome_col='converted')\n",
    "summary\n"
   ]
  },
  {
   "cell_type": "code",
   "execution_count": null,
   "id": "dda76da8",
   "metadata": {},
   "outputs": [],
   "source": [
    "\n",
    "# Plot conversion rate with 95% CI\n",
    "plot_cr_with_ci(summary, group_col='group', cr_col='cr', se_col='se')\n"
   ]
  },
  {
   "cell_type": "markdown",
   "id": "f4a42f36",
   "metadata": {},
   "source": [
    "## Two-proportion z-test"
   ]
  },
  {
   "cell_type": "code",
   "execution_count": null,
   "id": "30acedcb",
   "metadata": {},
   "outputs": [],
   "source": [
    "\n",
    "result = propor_z_test(df, group_col='group', outcome_col='converted', control='A', treatment='B')\n",
    "result\n"
   ]
  },
  {
   "cell_type": "markdown",
   "id": "b93b86e2",
   "metadata": {},
   "source": [
    "### Plain-English Recommendation"
   ]
  },
  {
   "cell_type": "code",
   "execution_count": null,
   "id": "5c4aadb0",
   "metadata": {},
   "outputs": [],
   "source": [
    "\n",
    "p1 = result['p_control']*100\n",
    "p2 = result['p_treatment']*100\n",
    "uplift = result['uplift']*100\n",
    "lo = result['uplift_ci_low']*100\n",
    "hi = result['uplift_ci_high']*100\n",
    "sig = result['p_value'] < 0.05\n",
    "\n",
    "print(f\"CR(A) = {p1:.2f}%, CR(B) = {p2:.2f}%\")\n",
    "print(f\"Uplift = {uplift:.2f}% (95% CI: {lo:.2f}% to {hi:.2f}%)\")\n",
    "print(f\"p-value = {result['p_value']:.4f} -> {'SIGNIFICANT' if sig else 'NOT significant'}\")\n",
    "\n",
    "if sig and uplift > 0:\n",
    "    print(\"Recommendation: Roll out Variant B.\")\n",
    "elif sig and uplift < 0:\n",
    "    print(\"Recommendation: Keep A (B underperforms).\")\n",
    "else:\n",
    "    print(\"Recommendation: Inconclusive – extend the test or collect more data.\")\n"
   ]
  }
 ],
 "metadata": {},
 "nbformat": 4,
 "nbformat_minor": 5
}
